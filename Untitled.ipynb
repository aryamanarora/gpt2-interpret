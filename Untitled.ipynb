{
 "cells": [
  {
   "cell_type": "code",
   "execution_count": 55,
   "id": "d165cbe3",
   "metadata": {},
   "outputs": [],
   "source": [
    "import torch\n",
    "import torch.nn as nn\n",
    "import torch.nn.functional as F\n",
    "import numpy as np\n",
    "from tqdm import tqdm\n",
    "import torch.optim as optim\n",
    "import random\n",
    "%matplotlib notebook"
   ]
  },
  {
   "cell_type": "code",
   "execution_count": 56,
   "id": "7d67d3ca",
   "metadata": {},
   "outputs": [],
   "source": [
    "from matplotlib import pyplot as plt\n",
    "\n",
    "def draw_tensor(tensor: torch.Tensor, fig=plt, fin=plt):\n",
    "    fig.imshow(tensor, cmap='bwr', interpolation='nearest', vmin=-1, vmax=1)\n",
    "    fig.xaxis.set_visible(False)\n",
    "    fig.yaxis.set_visible(False)\n",
    "    fin.canvas.draw()\n",
    "\n",
    "def draw_norm(tensor: torch.Tensor, fig=plt, fin=plt):\n",
    "    fig.bar(list(range(tensor.size()[0])), tensor)\n",
    "    fin.canvas.draw()"
   ]
  },
  {
   "cell_type": "code",
   "execution_count": 57,
   "id": "d792523e",
   "metadata": {},
   "outputs": [],
   "source": [
    "class Model(nn.Module):\n",
    "    def __init__(self, N, M, activation):\n",
    "        super(Model, self).__init__()\n",
    "        self.W = nn.Linear(N, M, bias=False)\n",
    "        self.Wt = nn.Linear(M, N, bias=True)\n",
    "        self.Wt.weight = nn.Parameter(self.W.weight.t())\n",
    "        self.activation = activation\n",
    "    \n",
    "    def forward(self, x):\n",
    "        h = self.W(x)\n",
    "        return self.activation(self.Wt(h))"
   ]
  },
  {
   "cell_type": "code",
   "execution_count": 67,
   "id": "9bdb1205",
   "metadata": {},
   "outputs": [
    {
     "data": {
      "text/plain": [
       "tensor([1, 2, 2, 2, 1, 2, 2, 2, 1, 1])"
      ]
     },
     "execution_count": 67,
     "metadata": {},
     "output_type": "execute_result"
    }
   ],
   "source": [
    "from torch.distributions.categorical import Categorical\n",
    "\n",
    "m = Categorical(torch.tensor([0.0, 0.5, 0.5]))\n",
    "m.sample(sample_shape=(10,))"
   ]
  },
  {
   "cell_type": "code",
   "execution_count": 69,
   "id": "21606823",
   "metadata": {
    "scrolled": true
   },
   "outputs": [],
   "source": [
    "from torch.distributions.categorical import Categorical\n",
    "\n",
    "def run(N, M, I, O, samples=10000, activation=F.softmax, show=False, epochs=50, lr=0.1):\n",
    "    if show:\n",
    "        fig = plt.figure()\n",
    "        ident = fig.add_subplot(221)\n",
    "        ident2 = fig.add_subplot(222)\n",
    "        norms = fig.add_subplot(223)\n",
    "        lossm = fig.add_subplot(224)\n",
    "        print()\n",
    "    \n",
    "    model = Model(N, M, activation)\n",
    "    optimizer = optim.Adam(model.parameters(), lr=lr)\n",
    "    m = Categorical(O)\n",
    "#     criterion = torch.nn.CrossEntropyLoss(weight=I)\n",
    "\n",
    "    def loss_func(true, output):\n",
    "        res = torch.sum(I * ((true - output)**2)) / N\n",
    "        return res\n",
    "\n",
    "    l = []\n",
    "    tq = tqdm(range(epochs))\n",
    "\n",
    "    losses = []\n",
    "    for i in tq:\n",
    "        model.zero_grad()\n",
    "        optimizer.zero_grad()\n",
    "\n",
    "        # X = torch.randint(0, N, (samples,))\n",
    "        X = m.sample(sample_shape=(samples,))\n",
    "        X = F.one_hot(X, num_classes=N)\n",
    "\n",
    "        pred = model.forward(X.type(torch.FloatTensor))\n",
    "#         loss = criterion(X, pred)\n",
    "        loss = loss_func(X, pred)\n",
    "\n",
    "        tq.set_postfix({'loss': loss})\n",
    "        tq.refresh()\n",
    "        loss.backward()\n",
    "        losses.append(loss.detach())\n",
    "        optimizer.step()\n",
    "        # print(model.W.weight)\n",
    "        if show and i % 10 == 0:\n",
    "            ident.clear()\n",
    "            draw_tensor(model.W.weight.detach(), ident, fig)\n",
    "            # draw_tensor(torch.matmul(model.W.weight.t(), model.W.weight).detach(), ident, fig)\n",
    "            ident2.clear()\n",
    "            draw_tensor((activation(torch.matmul(model.W.weight.t(), model.W.weight))).detach(), ident2, fig)\n",
    "            # draw_tensor(model.Wt.bias.reshape(1, N).detach())\n",
    "            norms.clear()\n",
    "            if M == 2:\n",
    "                norms.scatter(model.W.weight[0].detach(), model.W.weight[1].detach(), c=O, cmap='bwr')\n",
    "            else:\n",
    "                draw_norm(torch.norm(model.W.weight.t(), dim=1).detach(), norms, fig)\n",
    "            lossm.clear()\n",
    "            lossm.set(yscale='log')\n",
    "            lossm.plot(losses)\n",
    "            fig.canvas.draw()\n",
    "    \n",
    "    return model, losses, torch.norm(model.W.weight)"
   ]
  },
  {
   "cell_type": "code",
   "execution_count": null,
   "id": "72e0adf3",
   "metadata": {},
   "outputs": [
    {
     "data": {
      "application/javascript": [
       "/* Put everything inside the global mpl namespace */\n",
       "/* global mpl */\n",
       "window.mpl = {};\n",
       "\n",
       "mpl.get_websocket_type = function () {\n",
       "    if (typeof WebSocket !== 'undefined') {\n",
       "        return WebSocket;\n",
       "    } else if (typeof MozWebSocket !== 'undefined') {\n",
       "        return MozWebSocket;\n",
       "    } else {\n",
       "        alert(\n",
       "            'Your browser does not have WebSocket support. ' +\n",
       "                'Please try Chrome, Safari or Firefox ≥ 6. ' +\n",
       "                'Firefox 4 and 5 are also supported but you ' +\n",
       "                'have to enable WebSockets in about:config.'\n",
       "        );\n",
       "    }\n",
       "};\n",
       "\n",
       "mpl.figure = function (figure_id, websocket, ondownload, parent_element) {\n",
       "    this.id = figure_id;\n",
       "\n",
       "    this.ws = websocket;\n",
       "\n",
       "    this.supports_binary = this.ws.binaryType !== undefined;\n",
       "\n",
       "    if (!this.supports_binary) {\n",
       "        var warnings = document.getElementById('mpl-warnings');\n",
       "        if (warnings) {\n",
       "            warnings.style.display = 'block';\n",
       "            warnings.textContent =\n",
       "                'This browser does not support binary websocket messages. ' +\n",
       "                'Performance may be slow.';\n",
       "        }\n",
       "    }\n",
       "\n",
       "    this.imageObj = new Image();\n",
       "\n",
       "    this.context = undefined;\n",
       "    this.message = undefined;\n",
       "    this.canvas = undefined;\n",
       "    this.rubberband_canvas = undefined;\n",
       "    this.rubberband_context = undefined;\n",
       "    this.format_dropdown = undefined;\n",
       "\n",
       "    this.image_mode = 'full';\n",
       "\n",
       "    this.root = document.createElement('div');\n",
       "    this.root.setAttribute('style', 'display: inline-block');\n",
       "    this._root_extra_style(this.root);\n",
       "\n",
       "    parent_element.appendChild(this.root);\n",
       "\n",
       "    this._init_header(this);\n",
       "    this._init_canvas(this);\n",
       "    this._init_toolbar(this);\n",
       "\n",
       "    var fig = this;\n",
       "\n",
       "    this.waiting = false;\n",
       "\n",
       "    this.ws.onopen = function () {\n",
       "        fig.send_message('supports_binary', { value: fig.supports_binary });\n",
       "        fig.send_message('send_image_mode', {});\n",
       "        if (fig.ratio !== 1) {\n",
       "            fig.send_message('set_device_pixel_ratio', {\n",
       "                device_pixel_ratio: fig.ratio,\n",
       "            });\n",
       "        }\n",
       "        fig.send_message('refresh', {});\n",
       "    };\n",
       "\n",
       "    this.imageObj.onload = function () {\n",
       "        if (fig.image_mode === 'full') {\n",
       "            // Full images could contain transparency (where diff images\n",
       "            // almost always do), so we need to clear the canvas so that\n",
       "            // there is no ghosting.\n",
       "            fig.context.clearRect(0, 0, fig.canvas.width, fig.canvas.height);\n",
       "        }\n",
       "        fig.context.drawImage(fig.imageObj, 0, 0);\n",
       "    };\n",
       "\n",
       "    this.imageObj.onunload = function () {\n",
       "        fig.ws.close();\n",
       "    };\n",
       "\n",
       "    this.ws.onmessage = this._make_on_message_function(this);\n",
       "\n",
       "    this.ondownload = ondownload;\n",
       "};\n",
       "\n",
       "mpl.figure.prototype._init_header = function () {\n",
       "    var titlebar = document.createElement('div');\n",
       "    titlebar.classList =\n",
       "        'ui-dialog-titlebar ui-widget-header ui-corner-all ui-helper-clearfix';\n",
       "    var titletext = document.createElement('div');\n",
       "    titletext.classList = 'ui-dialog-title';\n",
       "    titletext.setAttribute(\n",
       "        'style',\n",
       "        'width: 100%; text-align: center; padding: 3px;'\n",
       "    );\n",
       "    titlebar.appendChild(titletext);\n",
       "    this.root.appendChild(titlebar);\n",
       "    this.header = titletext;\n",
       "};\n",
       "\n",
       "mpl.figure.prototype._canvas_extra_style = function (_canvas_div) {};\n",
       "\n",
       "mpl.figure.prototype._root_extra_style = function (_canvas_div) {};\n",
       "\n",
       "mpl.figure.prototype._init_canvas = function () {\n",
       "    var fig = this;\n",
       "\n",
       "    var canvas_div = (this.canvas_div = document.createElement('div'));\n",
       "    canvas_div.setAttribute(\n",
       "        'style',\n",
       "        'border: 1px solid #ddd;' +\n",
       "            'box-sizing: content-box;' +\n",
       "            'clear: both;' +\n",
       "            'min-height: 1px;' +\n",
       "            'min-width: 1px;' +\n",
       "            'outline: 0;' +\n",
       "            'overflow: hidden;' +\n",
       "            'position: relative;' +\n",
       "            'resize: both;'\n",
       "    );\n",
       "\n",
       "    function on_keyboard_event_closure(name) {\n",
       "        return function (event) {\n",
       "            return fig.key_event(event, name);\n",
       "        };\n",
       "    }\n",
       "\n",
       "    canvas_div.addEventListener(\n",
       "        'keydown',\n",
       "        on_keyboard_event_closure('key_press')\n",
       "    );\n",
       "    canvas_div.addEventListener(\n",
       "        'keyup',\n",
       "        on_keyboard_event_closure('key_release')\n",
       "    );\n",
       "\n",
       "    this._canvas_extra_style(canvas_div);\n",
       "    this.root.appendChild(canvas_div);\n",
       "\n",
       "    var canvas = (this.canvas = document.createElement('canvas'));\n",
       "    canvas.classList.add('mpl-canvas');\n",
       "    canvas.setAttribute('style', 'box-sizing: content-box;');\n",
       "\n",
       "    this.context = canvas.getContext('2d');\n",
       "\n",
       "    var backingStore =\n",
       "        this.context.backingStorePixelRatio ||\n",
       "        this.context.webkitBackingStorePixelRatio ||\n",
       "        this.context.mozBackingStorePixelRatio ||\n",
       "        this.context.msBackingStorePixelRatio ||\n",
       "        this.context.oBackingStorePixelRatio ||\n",
       "        this.context.backingStorePixelRatio ||\n",
       "        1;\n",
       "\n",
       "    this.ratio = (window.devicePixelRatio || 1) / backingStore;\n",
       "\n",
       "    var rubberband_canvas = (this.rubberband_canvas = document.createElement(\n",
       "        'canvas'\n",
       "    ));\n",
       "    rubberband_canvas.setAttribute(\n",
       "        'style',\n",
       "        'box-sizing: content-box; position: absolute; left: 0; top: 0; z-index: 1;'\n",
       "    );\n",
       "\n",
       "    // Apply a ponyfill if ResizeObserver is not implemented by browser.\n",
       "    if (this.ResizeObserver === undefined) {\n",
       "        if (window.ResizeObserver !== undefined) {\n",
       "            this.ResizeObserver = window.ResizeObserver;\n",
       "        } else {\n",
       "            var obs = _JSXTOOLS_RESIZE_OBSERVER({});\n",
       "            this.ResizeObserver = obs.ResizeObserver;\n",
       "        }\n",
       "    }\n",
       "\n",
       "    this.resizeObserverInstance = new this.ResizeObserver(function (entries) {\n",
       "        var nentries = entries.length;\n",
       "        for (var i = 0; i < nentries; i++) {\n",
       "            var entry = entries[i];\n",
       "            var width, height;\n",
       "            if (entry.contentBoxSize) {\n",
       "                if (entry.contentBoxSize instanceof Array) {\n",
       "                    // Chrome 84 implements new version of spec.\n",
       "                    width = entry.contentBoxSize[0].inlineSize;\n",
       "                    height = entry.contentBoxSize[0].blockSize;\n",
       "                } else {\n",
       "                    // Firefox implements old version of spec.\n",
       "                    width = entry.contentBoxSize.inlineSize;\n",
       "                    height = entry.contentBoxSize.blockSize;\n",
       "                }\n",
       "            } else {\n",
       "                // Chrome <84 implements even older version of spec.\n",
       "                width = entry.contentRect.width;\n",
       "                height = entry.contentRect.height;\n",
       "            }\n",
       "\n",
       "            // Keep the size of the canvas and rubber band canvas in sync with\n",
       "            // the canvas container.\n",
       "            if (entry.devicePixelContentBoxSize) {\n",
       "                // Chrome 84 implements new version of spec.\n",
       "                canvas.setAttribute(\n",
       "                    'width',\n",
       "                    entry.devicePixelContentBoxSize[0].inlineSize\n",
       "                );\n",
       "                canvas.setAttribute(\n",
       "                    'height',\n",
       "                    entry.devicePixelContentBoxSize[0].blockSize\n",
       "                );\n",
       "            } else {\n",
       "                canvas.setAttribute('width', width * fig.ratio);\n",
       "                canvas.setAttribute('height', height * fig.ratio);\n",
       "            }\n",
       "            canvas.setAttribute(\n",
       "                'style',\n",
       "                'width: ' + width + 'px; height: ' + height + 'px;'\n",
       "            );\n",
       "\n",
       "            rubberband_canvas.setAttribute('width', width);\n",
       "            rubberband_canvas.setAttribute('height', height);\n",
       "\n",
       "            // And update the size in Python. We ignore the initial 0/0 size\n",
       "            // that occurs as the element is placed into the DOM, which should\n",
       "            // otherwise not happen due to the minimum size styling.\n",
       "            if (fig.ws.readyState == 1 && width != 0 && height != 0) {\n",
       "                fig.request_resize(width, height);\n",
       "            }\n",
       "        }\n",
       "    });\n",
       "    this.resizeObserverInstance.observe(canvas_div);\n",
       "\n",
       "    function on_mouse_event_closure(name) {\n",
       "        return function (event) {\n",
       "            return fig.mouse_event(event, name);\n",
       "        };\n",
       "    }\n",
       "\n",
       "    rubberband_canvas.addEventListener(\n",
       "        'mousedown',\n",
       "        on_mouse_event_closure('button_press')\n",
       "    );\n",
       "    rubberband_canvas.addEventListener(\n",
       "        'mouseup',\n",
       "        on_mouse_event_closure('button_release')\n",
       "    );\n",
       "    rubberband_canvas.addEventListener(\n",
       "        'dblclick',\n",
       "        on_mouse_event_closure('dblclick')\n",
       "    );\n",
       "    // Throttle sequential mouse events to 1 every 20ms.\n",
       "    rubberband_canvas.addEventListener(\n",
       "        'mousemove',\n",
       "        on_mouse_event_closure('motion_notify')\n",
       "    );\n",
       "\n",
       "    rubberband_canvas.addEventListener(\n",
       "        'mouseenter',\n",
       "        on_mouse_event_closure('figure_enter')\n",
       "    );\n",
       "    rubberband_canvas.addEventListener(\n",
       "        'mouseleave',\n",
       "        on_mouse_event_closure('figure_leave')\n",
       "    );\n",
       "\n",
       "    canvas_div.addEventListener('wheel', function (event) {\n",
       "        if (event.deltaY < 0) {\n",
       "            event.step = 1;\n",
       "        } else {\n",
       "            event.step = -1;\n",
       "        }\n",
       "        on_mouse_event_closure('scroll')(event);\n",
       "    });\n",
       "\n",
       "    canvas_div.appendChild(canvas);\n",
       "    canvas_div.appendChild(rubberband_canvas);\n",
       "\n",
       "    this.rubberband_context = rubberband_canvas.getContext('2d');\n",
       "    this.rubberband_context.strokeStyle = '#000000';\n",
       "\n",
       "    this._resize_canvas = function (width, height, forward) {\n",
       "        if (forward) {\n",
       "            canvas_div.style.width = width + 'px';\n",
       "            canvas_div.style.height = height + 'px';\n",
       "        }\n",
       "    };\n",
       "\n",
       "    // Disable right mouse context menu.\n",
       "    this.rubberband_canvas.addEventListener('contextmenu', function (_e) {\n",
       "        event.preventDefault();\n",
       "        return false;\n",
       "    });\n",
       "\n",
       "    function set_focus() {\n",
       "        canvas.focus();\n",
       "        canvas_div.focus();\n",
       "    }\n",
       "\n",
       "    window.setTimeout(set_focus, 100);\n",
       "};\n",
       "\n",
       "mpl.figure.prototype._init_toolbar = function () {\n",
       "    var fig = this;\n",
       "\n",
       "    var toolbar = document.createElement('div');\n",
       "    toolbar.classList = 'mpl-toolbar';\n",
       "    this.root.appendChild(toolbar);\n",
       "\n",
       "    function on_click_closure(name) {\n",
       "        return function (_event) {\n",
       "            return fig.toolbar_button_onclick(name);\n",
       "        };\n",
       "    }\n",
       "\n",
       "    function on_mouseover_closure(tooltip) {\n",
       "        return function (event) {\n",
       "            if (!event.currentTarget.disabled) {\n",
       "                return fig.toolbar_button_onmouseover(tooltip);\n",
       "            }\n",
       "        };\n",
       "    }\n",
       "\n",
       "    fig.buttons = {};\n",
       "    var buttonGroup = document.createElement('div');\n",
       "    buttonGroup.classList = 'mpl-button-group';\n",
       "    for (var toolbar_ind in mpl.toolbar_items) {\n",
       "        var name = mpl.toolbar_items[toolbar_ind][0];\n",
       "        var tooltip = mpl.toolbar_items[toolbar_ind][1];\n",
       "        var image = mpl.toolbar_items[toolbar_ind][2];\n",
       "        var method_name = mpl.toolbar_items[toolbar_ind][3];\n",
       "\n",
       "        if (!name) {\n",
       "            /* Instead of a spacer, we start a new button group. */\n",
       "            if (buttonGroup.hasChildNodes()) {\n",
       "                toolbar.appendChild(buttonGroup);\n",
       "            }\n",
       "            buttonGroup = document.createElement('div');\n",
       "            buttonGroup.classList = 'mpl-button-group';\n",
       "            continue;\n",
       "        }\n",
       "\n",
       "        var button = (fig.buttons[name] = document.createElement('button'));\n",
       "        button.classList = 'mpl-widget';\n",
       "        button.setAttribute('role', 'button');\n",
       "        button.setAttribute('aria-disabled', 'false');\n",
       "        button.addEventListener('click', on_click_closure(method_name));\n",
       "        button.addEventListener('mouseover', on_mouseover_closure(tooltip));\n",
       "\n",
       "        var icon_img = document.createElement('img');\n",
       "        icon_img.src = '_images/' + image + '.png';\n",
       "        icon_img.srcset = '_images/' + image + '_large.png 2x';\n",
       "        icon_img.alt = tooltip;\n",
       "        button.appendChild(icon_img);\n",
       "\n",
       "        buttonGroup.appendChild(button);\n",
       "    }\n",
       "\n",
       "    if (buttonGroup.hasChildNodes()) {\n",
       "        toolbar.appendChild(buttonGroup);\n",
       "    }\n",
       "\n",
       "    var fmt_picker = document.createElement('select');\n",
       "    fmt_picker.classList = 'mpl-widget';\n",
       "    toolbar.appendChild(fmt_picker);\n",
       "    this.format_dropdown = fmt_picker;\n",
       "\n",
       "    for (var ind in mpl.extensions) {\n",
       "        var fmt = mpl.extensions[ind];\n",
       "        var option = document.createElement('option');\n",
       "        option.selected = fmt === mpl.default_extension;\n",
       "        option.innerHTML = fmt;\n",
       "        fmt_picker.appendChild(option);\n",
       "    }\n",
       "\n",
       "    var status_bar = document.createElement('span');\n",
       "    status_bar.classList = 'mpl-message';\n",
       "    toolbar.appendChild(status_bar);\n",
       "    this.message = status_bar;\n",
       "};\n",
       "\n",
       "mpl.figure.prototype.request_resize = function (x_pixels, y_pixels) {\n",
       "    // Request matplotlib to resize the figure. Matplotlib will then trigger a resize in the client,\n",
       "    // which will in turn request a refresh of the image.\n",
       "    this.send_message('resize', { width: x_pixels, height: y_pixels });\n",
       "};\n",
       "\n",
       "mpl.figure.prototype.send_message = function (type, properties) {\n",
       "    properties['type'] = type;\n",
       "    properties['figure_id'] = this.id;\n",
       "    this.ws.send(JSON.stringify(properties));\n",
       "};\n",
       "\n",
       "mpl.figure.prototype.send_draw_message = function () {\n",
       "    if (!this.waiting) {\n",
       "        this.waiting = true;\n",
       "        this.ws.send(JSON.stringify({ type: 'draw', figure_id: this.id }));\n",
       "    }\n",
       "};\n",
       "\n",
       "mpl.figure.prototype.handle_save = function (fig, _msg) {\n",
       "    var format_dropdown = fig.format_dropdown;\n",
       "    var format = format_dropdown.options[format_dropdown.selectedIndex].value;\n",
       "    fig.ondownload(fig, format);\n",
       "};\n",
       "\n",
       "mpl.figure.prototype.handle_resize = function (fig, msg) {\n",
       "    var size = msg['size'];\n",
       "    if (size[0] !== fig.canvas.width || size[1] !== fig.canvas.height) {\n",
       "        fig._resize_canvas(size[0], size[1], msg['forward']);\n",
       "        fig.send_message('refresh', {});\n",
       "    }\n",
       "};\n",
       "\n",
       "mpl.figure.prototype.handle_rubberband = function (fig, msg) {\n",
       "    var x0 = msg['x0'] / fig.ratio;\n",
       "    var y0 = (fig.canvas.height - msg['y0']) / fig.ratio;\n",
       "    var x1 = msg['x1'] / fig.ratio;\n",
       "    var y1 = (fig.canvas.height - msg['y1']) / fig.ratio;\n",
       "    x0 = Math.floor(x0) + 0.5;\n",
       "    y0 = Math.floor(y0) + 0.5;\n",
       "    x1 = Math.floor(x1) + 0.5;\n",
       "    y1 = Math.floor(y1) + 0.5;\n",
       "    var min_x = Math.min(x0, x1);\n",
       "    var min_y = Math.min(y0, y1);\n",
       "    var width = Math.abs(x1 - x0);\n",
       "    var height = Math.abs(y1 - y0);\n",
       "\n",
       "    fig.rubberband_context.clearRect(\n",
       "        0,\n",
       "        0,\n",
       "        fig.canvas.width / fig.ratio,\n",
       "        fig.canvas.height / fig.ratio\n",
       "    );\n",
       "\n",
       "    fig.rubberband_context.strokeRect(min_x, min_y, width, height);\n",
       "};\n",
       "\n",
       "mpl.figure.prototype.handle_figure_label = function (fig, msg) {\n",
       "    // Updates the figure title.\n",
       "    fig.header.textContent = msg['label'];\n",
       "};\n",
       "\n",
       "mpl.figure.prototype.handle_cursor = function (fig, msg) {\n",
       "    fig.rubberband_canvas.style.cursor = msg['cursor'];\n",
       "};\n",
       "\n",
       "mpl.figure.prototype.handle_message = function (fig, msg) {\n",
       "    fig.message.textContent = msg['message'];\n",
       "};\n",
       "\n",
       "mpl.figure.prototype.handle_draw = function (fig, _msg) {\n",
       "    // Request the server to send over a new figure.\n",
       "    fig.send_draw_message();\n",
       "};\n",
       "\n",
       "mpl.figure.prototype.handle_image_mode = function (fig, msg) {\n",
       "    fig.image_mode = msg['mode'];\n",
       "};\n",
       "\n",
       "mpl.figure.prototype.handle_history_buttons = function (fig, msg) {\n",
       "    for (var key in msg) {\n",
       "        if (!(key in fig.buttons)) {\n",
       "            continue;\n",
       "        }\n",
       "        fig.buttons[key].disabled = !msg[key];\n",
       "        fig.buttons[key].setAttribute('aria-disabled', !msg[key]);\n",
       "    }\n",
       "};\n",
       "\n",
       "mpl.figure.prototype.handle_navigate_mode = function (fig, msg) {\n",
       "    if (msg['mode'] === 'PAN') {\n",
       "        fig.buttons['Pan'].classList.add('active');\n",
       "        fig.buttons['Zoom'].classList.remove('active');\n",
       "    } else if (msg['mode'] === 'ZOOM') {\n",
       "        fig.buttons['Pan'].classList.remove('active');\n",
       "        fig.buttons['Zoom'].classList.add('active');\n",
       "    } else {\n",
       "        fig.buttons['Pan'].classList.remove('active');\n",
       "        fig.buttons['Zoom'].classList.remove('active');\n",
       "    }\n",
       "};\n",
       "\n",
       "mpl.figure.prototype.updated_canvas_event = function () {\n",
       "    // Called whenever the canvas gets updated.\n",
       "    this.send_message('ack', {});\n",
       "};\n",
       "\n",
       "// A function to construct a web socket function for onmessage handling.\n",
       "// Called in the figure constructor.\n",
       "mpl.figure.prototype._make_on_message_function = function (fig) {\n",
       "    return function socket_on_message(evt) {\n",
       "        if (evt.data instanceof Blob) {\n",
       "            var img = evt.data;\n",
       "            if (img.type !== 'image/png') {\n",
       "                /* FIXME: We get \"Resource interpreted as Image but\n",
       "                 * transferred with MIME type text/plain:\" errors on\n",
       "                 * Chrome.  But how to set the MIME type?  It doesn't seem\n",
       "                 * to be part of the websocket stream */\n",
       "                img.type = 'image/png';\n",
       "            }\n",
       "\n",
       "            /* Free the memory for the previous frames */\n",
       "            if (fig.imageObj.src) {\n",
       "                (window.URL || window.webkitURL).revokeObjectURL(\n",
       "                    fig.imageObj.src\n",
       "                );\n",
       "            }\n",
       "\n",
       "            fig.imageObj.src = (window.URL || window.webkitURL).createObjectURL(\n",
       "                img\n",
       "            );\n",
       "            fig.updated_canvas_event();\n",
       "            fig.waiting = false;\n",
       "            return;\n",
       "        } else if (\n",
       "            typeof evt.data === 'string' &&\n",
       "            evt.data.slice(0, 21) === 'data:image/png;base64'\n",
       "        ) {\n",
       "            fig.imageObj.src = evt.data;\n",
       "            fig.updated_canvas_event();\n",
       "            fig.waiting = false;\n",
       "            return;\n",
       "        }\n",
       "\n",
       "        var msg = JSON.parse(evt.data);\n",
       "        var msg_type = msg['type'];\n",
       "\n",
       "        // Call the  \"handle_{type}\" callback, which takes\n",
       "        // the figure and JSON message as its only arguments.\n",
       "        try {\n",
       "            var callback = fig['handle_' + msg_type];\n",
       "        } catch (e) {\n",
       "            console.log(\n",
       "                \"No handler for the '\" + msg_type + \"' message type: \",\n",
       "                msg\n",
       "            );\n",
       "            return;\n",
       "        }\n",
       "\n",
       "        if (callback) {\n",
       "            try {\n",
       "                // console.log(\"Handling '\" + msg_type + \"' message: \", msg);\n",
       "                callback(fig, msg);\n",
       "            } catch (e) {\n",
       "                console.log(\n",
       "                    \"Exception inside the 'handler_\" + msg_type + \"' callback:\",\n",
       "                    e,\n",
       "                    e.stack,\n",
       "                    msg\n",
       "                );\n",
       "            }\n",
       "        }\n",
       "    };\n",
       "};\n",
       "\n",
       "// from https://stackoverflow.com/questions/1114465/getting-mouse-location-in-canvas\n",
       "mpl.findpos = function (e) {\n",
       "    //this section is from http://www.quirksmode.org/js/events_properties.html\n",
       "    var targ;\n",
       "    if (!e) {\n",
       "        e = window.event;\n",
       "    }\n",
       "    if (e.target) {\n",
       "        targ = e.target;\n",
       "    } else if (e.srcElement) {\n",
       "        targ = e.srcElement;\n",
       "    }\n",
       "    if (targ.nodeType === 3) {\n",
       "        // defeat Safari bug\n",
       "        targ = targ.parentNode;\n",
       "    }\n",
       "\n",
       "    // pageX,Y are the mouse positions relative to the document\n",
       "    var boundingRect = targ.getBoundingClientRect();\n",
       "    var x = e.pageX - (boundingRect.left + document.body.scrollLeft);\n",
       "    var y = e.pageY - (boundingRect.top + document.body.scrollTop);\n",
       "\n",
       "    return { x: x, y: y };\n",
       "};\n",
       "\n",
       "/*\n",
       " * return a copy of an object with only non-object keys\n",
       " * we need this to avoid circular references\n",
       " * https://stackoverflow.com/a/24161582/3208463\n",
       " */\n",
       "function simpleKeys(original) {\n",
       "    return Object.keys(original).reduce(function (obj, key) {\n",
       "        if (typeof original[key] !== 'object') {\n",
       "            obj[key] = original[key];\n",
       "        }\n",
       "        return obj;\n",
       "    }, {});\n",
       "}\n",
       "\n",
       "mpl.figure.prototype.mouse_event = function (event, name) {\n",
       "    var canvas_pos = mpl.findpos(event);\n",
       "\n",
       "    if (name === 'button_press') {\n",
       "        this.canvas.focus();\n",
       "        this.canvas_div.focus();\n",
       "    }\n",
       "\n",
       "    var x = canvas_pos.x * this.ratio;\n",
       "    var y = canvas_pos.y * this.ratio;\n",
       "\n",
       "    this.send_message(name, {\n",
       "        x: x,\n",
       "        y: y,\n",
       "        button: event.button,\n",
       "        step: event.step,\n",
       "        guiEvent: simpleKeys(event),\n",
       "    });\n",
       "\n",
       "    /* This prevents the web browser from automatically changing to\n",
       "     * the text insertion cursor when the button is pressed.  We want\n",
       "     * to control all of the cursor setting manually through the\n",
       "     * 'cursor' event from matplotlib */\n",
       "    event.preventDefault();\n",
       "    return false;\n",
       "};\n",
       "\n",
       "mpl.figure.prototype._key_event_extra = function (_event, _name) {\n",
       "    // Handle any extra behaviour associated with a key event\n",
       "};\n",
       "\n",
       "mpl.figure.prototype.key_event = function (event, name) {\n",
       "    // Prevent repeat events\n",
       "    if (name === 'key_press') {\n",
       "        if (event.key === this._key) {\n",
       "            return;\n",
       "        } else {\n",
       "            this._key = event.key;\n",
       "        }\n",
       "    }\n",
       "    if (name === 'key_release') {\n",
       "        this._key = null;\n",
       "    }\n",
       "\n",
       "    var value = '';\n",
       "    if (event.ctrlKey && event.key !== 'Control') {\n",
       "        value += 'ctrl+';\n",
       "    }\n",
       "    else if (event.altKey && event.key !== 'Alt') {\n",
       "        value += 'alt+';\n",
       "    }\n",
       "    else if (event.shiftKey && event.key !== 'Shift') {\n",
       "        value += 'shift+';\n",
       "    }\n",
       "\n",
       "    value += 'k' + event.key;\n",
       "\n",
       "    this._key_event_extra(event, name);\n",
       "\n",
       "    this.send_message(name, { key: value, guiEvent: simpleKeys(event) });\n",
       "    return false;\n",
       "};\n",
       "\n",
       "mpl.figure.prototype.toolbar_button_onclick = function (name) {\n",
       "    if (name === 'download') {\n",
       "        this.handle_save(this, null);\n",
       "    } else {\n",
       "        this.send_message('toolbar_button', { name: name });\n",
       "    }\n",
       "};\n",
       "\n",
       "mpl.figure.prototype.toolbar_button_onmouseover = function (tooltip) {\n",
       "    this.message.textContent = tooltip;\n",
       "};\n",
       "\n",
       "///////////////// REMAINING CONTENT GENERATED BY embed_js.py /////////////////\n",
       "// prettier-ignore\n",
       "var _JSXTOOLS_RESIZE_OBSERVER=function(A){var t,i=new WeakMap,n=new WeakMap,a=new WeakMap,r=new WeakMap,o=new Set;function s(e){if(!(this instanceof s))throw new TypeError(\"Constructor requires 'new' operator\");i.set(this,e)}function h(){throw new TypeError(\"Function is not a constructor\")}function c(e,t,i,n){e=0 in arguments?Number(arguments[0]):0,t=1 in arguments?Number(arguments[1]):0,i=2 in arguments?Number(arguments[2]):0,n=3 in arguments?Number(arguments[3]):0,this.right=(this.x=this.left=e)+(this.width=i),this.bottom=(this.y=this.top=t)+(this.height=n),Object.freeze(this)}function d(){t=requestAnimationFrame(d);var s=new WeakMap,p=new Set;o.forEach((function(t){r.get(t).forEach((function(i){var r=t instanceof window.SVGElement,o=a.get(t),d=r?0:parseFloat(o.paddingTop),f=r?0:parseFloat(o.paddingRight),l=r?0:parseFloat(o.paddingBottom),u=r?0:parseFloat(o.paddingLeft),g=r?0:parseFloat(o.borderTopWidth),m=r?0:parseFloat(o.borderRightWidth),w=r?0:parseFloat(o.borderBottomWidth),b=u+f,F=d+l,v=(r?0:parseFloat(o.borderLeftWidth))+m,W=g+w,y=r?0:t.offsetHeight-W-t.clientHeight,E=r?0:t.offsetWidth-v-t.clientWidth,R=b+v,z=F+W,M=r?t.width:parseFloat(o.width)-R-E,O=r?t.height:parseFloat(o.height)-z-y;if(n.has(t)){var k=n.get(t);if(k[0]===M&&k[1]===O)return}n.set(t,[M,O]);var S=Object.create(h.prototype);S.target=t,S.contentRect=new c(u,d,M,O),s.has(i)||(s.set(i,[]),p.add(i)),s.get(i).push(S)}))})),p.forEach((function(e){i.get(e).call(e,s.get(e),e)}))}return s.prototype.observe=function(i){if(i instanceof window.Element){r.has(i)||(r.set(i,new Set),o.add(i),a.set(i,window.getComputedStyle(i)));var n=r.get(i);n.has(this)||n.add(this),cancelAnimationFrame(t),t=requestAnimationFrame(d)}},s.prototype.unobserve=function(i){if(i instanceof window.Element&&r.has(i)){var n=r.get(i);n.has(this)&&(n.delete(this),n.size||(r.delete(i),o.delete(i))),n.size||r.delete(i),o.size||cancelAnimationFrame(t)}},A.DOMRectReadOnly=c,A.ResizeObserver=s,A.ResizeObserverEntry=h,A}; // eslint-disable-line\n",
       "mpl.toolbar_items = [[\"Home\", \"Reset original view\", \"fa fa-home\", \"home\"], [\"Back\", \"Back to previous view\", \"fa fa-arrow-left\", \"back\"], [\"Forward\", \"Forward to next view\", \"fa fa-arrow-right\", \"forward\"], [\"\", \"\", \"\", \"\"], [\"Pan\", \"Left button pans, Right button zooms\\nx/y fixes axis, CTRL fixes aspect\", \"fa fa-arrows\", \"pan\"], [\"Zoom\", \"Zoom to rectangle\\nx/y fixes axis\", \"fa fa-square-o\", \"zoom\"], [\"\", \"\", \"\", \"\"], [\"Download\", \"Download plot\", \"fa fa-floppy-o\", \"download\"]];\n",
       "\n",
       "mpl.extensions = [\"eps\", \"jpeg\", \"pgf\", \"pdf\", \"png\", \"ps\", \"raw\", \"svg\", \"tif\", \"webp\"];\n",
       "\n",
       "mpl.default_extension = \"png\";/* global mpl */\n",
       "\n",
       "var comm_websocket_adapter = function (comm) {\n",
       "    // Create a \"websocket\"-like object which calls the given IPython comm\n",
       "    // object with the appropriate methods. Currently this is a non binary\n",
       "    // socket, so there is still some room for performance tuning.\n",
       "    var ws = {};\n",
       "\n",
       "    ws.binaryType = comm.kernel.ws.binaryType;\n",
       "    ws.readyState = comm.kernel.ws.readyState;\n",
       "    function updateReadyState(_event) {\n",
       "        if (comm.kernel.ws) {\n",
       "            ws.readyState = comm.kernel.ws.readyState;\n",
       "        } else {\n",
       "            ws.readyState = 3; // Closed state.\n",
       "        }\n",
       "    }\n",
       "    comm.kernel.ws.addEventListener('open', updateReadyState);\n",
       "    comm.kernel.ws.addEventListener('close', updateReadyState);\n",
       "    comm.kernel.ws.addEventListener('error', updateReadyState);\n",
       "\n",
       "    ws.close = function () {\n",
       "        comm.close();\n",
       "    };\n",
       "    ws.send = function (m) {\n",
       "        //console.log('sending', m);\n",
       "        comm.send(m);\n",
       "    };\n",
       "    // Register the callback with on_msg.\n",
       "    comm.on_msg(function (msg) {\n",
       "        //console.log('receiving', msg['content']['data'], msg);\n",
       "        var data = msg['content']['data'];\n",
       "        if (data['blob'] !== undefined) {\n",
       "            data = {\n",
       "                data: new Blob(msg['buffers'], { type: data['blob'] }),\n",
       "            };\n",
       "        }\n",
       "        // Pass the mpl event to the overridden (by mpl) onmessage function.\n",
       "        ws.onmessage(data);\n",
       "    });\n",
       "    return ws;\n",
       "};\n",
       "\n",
       "mpl.mpl_figure_comm = function (comm, msg) {\n",
       "    // This is the function which gets called when the mpl process\n",
       "    // starts-up an IPython Comm through the \"matplotlib\" channel.\n",
       "\n",
       "    var id = msg.content.data.id;\n",
       "    // Get hold of the div created by the display call when the Comm\n",
       "    // socket was opened in Python.\n",
       "    var element = document.getElementById(id);\n",
       "    var ws_proxy = comm_websocket_adapter(comm);\n",
       "\n",
       "    function ondownload(figure, _format) {\n",
       "        window.open(figure.canvas.toDataURL());\n",
       "    }\n",
       "\n",
       "    var fig = new mpl.figure(id, ws_proxy, ondownload, element);\n",
       "\n",
       "    // Call onopen now - mpl needs it, as it is assuming we've passed it a real\n",
       "    // web socket which is closed, not our websocket->open comm proxy.\n",
       "    ws_proxy.onopen();\n",
       "\n",
       "    fig.parent_element = element;\n",
       "    fig.cell_info = mpl.find_output_cell(\"<div id='\" + id + \"'></div>\");\n",
       "    if (!fig.cell_info) {\n",
       "        console.error('Failed to find cell for figure', id, fig);\n",
       "        return;\n",
       "    }\n",
       "    fig.cell_info[0].output_area.element.on(\n",
       "        'cleared',\n",
       "        { fig: fig },\n",
       "        fig._remove_fig_handler\n",
       "    );\n",
       "};\n",
       "\n",
       "mpl.figure.prototype.handle_close = function (fig, msg) {\n",
       "    var width = fig.canvas.width / fig.ratio;\n",
       "    fig.cell_info[0].output_area.element.off(\n",
       "        'cleared',\n",
       "        fig._remove_fig_handler\n",
       "    );\n",
       "    fig.resizeObserverInstance.unobserve(fig.canvas_div);\n",
       "\n",
       "    // Update the output cell to use the data from the current canvas.\n",
       "    fig.push_to_output();\n",
       "    var dataURL = fig.canvas.toDataURL();\n",
       "    // Re-enable the keyboard manager in IPython - without this line, in FF,\n",
       "    // the notebook keyboard shortcuts fail.\n",
       "    IPython.keyboard_manager.enable();\n",
       "    fig.parent_element.innerHTML =\n",
       "        '<img src=\"' + dataURL + '\" width=\"' + width + '\">';\n",
       "    fig.close_ws(fig, msg);\n",
       "};\n",
       "\n",
       "mpl.figure.prototype.close_ws = function (fig, msg) {\n",
       "    fig.send_message('closing', msg);\n",
       "    // fig.ws.close()\n",
       "};\n",
       "\n",
       "mpl.figure.prototype.push_to_output = function (_remove_interactive) {\n",
       "    // Turn the data on the canvas into data in the output cell.\n",
       "    var width = this.canvas.width / this.ratio;\n",
       "    var dataURL = this.canvas.toDataURL();\n",
       "    this.cell_info[1]['text/html'] =\n",
       "        '<img src=\"' + dataURL + '\" width=\"' + width + '\">';\n",
       "};\n",
       "\n",
       "mpl.figure.prototype.updated_canvas_event = function () {\n",
       "    // Tell IPython that the notebook contents must change.\n",
       "    IPython.notebook.set_dirty(true);\n",
       "    this.send_message('ack', {});\n",
       "    var fig = this;\n",
       "    // Wait a second, then push the new image to the DOM so\n",
       "    // that it is saved nicely (might be nice to debounce this).\n",
       "    setTimeout(function () {\n",
       "        fig.push_to_output();\n",
       "    }, 1000);\n",
       "};\n",
       "\n",
       "mpl.figure.prototype._init_toolbar = function () {\n",
       "    var fig = this;\n",
       "\n",
       "    var toolbar = document.createElement('div');\n",
       "    toolbar.classList = 'btn-toolbar';\n",
       "    this.root.appendChild(toolbar);\n",
       "\n",
       "    function on_click_closure(name) {\n",
       "        return function (_event) {\n",
       "            return fig.toolbar_button_onclick(name);\n",
       "        };\n",
       "    }\n",
       "\n",
       "    function on_mouseover_closure(tooltip) {\n",
       "        return function (event) {\n",
       "            if (!event.currentTarget.disabled) {\n",
       "                return fig.toolbar_button_onmouseover(tooltip);\n",
       "            }\n",
       "        };\n",
       "    }\n",
       "\n",
       "    fig.buttons = {};\n",
       "    var buttonGroup = document.createElement('div');\n",
       "    buttonGroup.classList = 'btn-group';\n",
       "    var button;\n",
       "    for (var toolbar_ind in mpl.toolbar_items) {\n",
       "        var name = mpl.toolbar_items[toolbar_ind][0];\n",
       "        var tooltip = mpl.toolbar_items[toolbar_ind][1];\n",
       "        var image = mpl.toolbar_items[toolbar_ind][2];\n",
       "        var method_name = mpl.toolbar_items[toolbar_ind][3];\n",
       "\n",
       "        if (!name) {\n",
       "            /* Instead of a spacer, we start a new button group. */\n",
       "            if (buttonGroup.hasChildNodes()) {\n",
       "                toolbar.appendChild(buttonGroup);\n",
       "            }\n",
       "            buttonGroup = document.createElement('div');\n",
       "            buttonGroup.classList = 'btn-group';\n",
       "            continue;\n",
       "        }\n",
       "\n",
       "        button = fig.buttons[name] = document.createElement('button');\n",
       "        button.classList = 'btn btn-default';\n",
       "        button.href = '#';\n",
       "        button.title = name;\n",
       "        button.innerHTML = '<i class=\"fa ' + image + ' fa-lg\"></i>';\n",
       "        button.addEventListener('click', on_click_closure(method_name));\n",
       "        button.addEventListener('mouseover', on_mouseover_closure(tooltip));\n",
       "        buttonGroup.appendChild(button);\n",
       "    }\n",
       "\n",
       "    if (buttonGroup.hasChildNodes()) {\n",
       "        toolbar.appendChild(buttonGroup);\n",
       "    }\n",
       "\n",
       "    // Add the status bar.\n",
       "    var status_bar = document.createElement('span');\n",
       "    status_bar.classList = 'mpl-message pull-right';\n",
       "    toolbar.appendChild(status_bar);\n",
       "    this.message = status_bar;\n",
       "\n",
       "    // Add the close button to the window.\n",
       "    var buttongrp = document.createElement('div');\n",
       "    buttongrp.classList = 'btn-group inline pull-right';\n",
       "    button = document.createElement('button');\n",
       "    button.classList = 'btn btn-mini btn-primary';\n",
       "    button.href = '#';\n",
       "    button.title = 'Stop Interaction';\n",
       "    button.innerHTML = '<i class=\"fa fa-power-off icon-remove icon-large\"></i>';\n",
       "    button.addEventListener('click', function (_evt) {\n",
       "        fig.handle_close(fig, {});\n",
       "    });\n",
       "    button.addEventListener(\n",
       "        'mouseover',\n",
       "        on_mouseover_closure('Stop Interaction')\n",
       "    );\n",
       "    buttongrp.appendChild(button);\n",
       "    var titlebar = this.root.querySelector('.ui-dialog-titlebar');\n",
       "    titlebar.insertBefore(buttongrp, titlebar.firstChild);\n",
       "};\n",
       "\n",
       "mpl.figure.prototype._remove_fig_handler = function (event) {\n",
       "    var fig = event.data.fig;\n",
       "    if (event.target !== this) {\n",
       "        // Ignore bubbled events from children.\n",
       "        return;\n",
       "    }\n",
       "    fig.close_ws(fig, {});\n",
       "};\n",
       "\n",
       "mpl.figure.prototype._root_extra_style = function (el) {\n",
       "    el.style.boxSizing = 'content-box'; // override notebook setting of border-box.\n",
       "};\n",
       "\n",
       "mpl.figure.prototype._canvas_extra_style = function (el) {\n",
       "    // this is important to make the div 'focusable\n",
       "    el.setAttribute('tabindex', 0);\n",
       "    // reach out to IPython and tell the keyboard manager to turn it's self\n",
       "    // off when our div gets focus\n",
       "\n",
       "    // location in version 3\n",
       "    if (IPython.notebook.keyboard_manager) {\n",
       "        IPython.notebook.keyboard_manager.register_events(el);\n",
       "    } else {\n",
       "        // location in version 2\n",
       "        IPython.keyboard_manager.register_events(el);\n",
       "    }\n",
       "};\n",
       "\n",
       "mpl.figure.prototype._key_event_extra = function (event, _name) {\n",
       "    // Check for shift+enter\n",
       "    if (event.shiftKey && event.which === 13) {\n",
       "        this.canvas_div.blur();\n",
       "        // select the cell after this one\n",
       "        var index = IPython.notebook.find_cell_index(this.cell_info[0]);\n",
       "        IPython.notebook.select(index + 1);\n",
       "    }\n",
       "};\n",
       "\n",
       "mpl.figure.prototype.handle_save = function (fig, _msg) {\n",
       "    fig.ondownload(fig, null);\n",
       "};\n",
       "\n",
       "mpl.find_output_cell = function (html_output) {\n",
       "    // Return the cell and output element which can be found *uniquely* in the notebook.\n",
       "    // Note - this is a bit hacky, but it is done because the \"notebook_saving.Notebook\"\n",
       "    // IPython event is triggered only after the cells have been serialised, which for\n",
       "    // our purposes (turning an active figure into a static one), is too late.\n",
       "    var cells = IPython.notebook.get_cells();\n",
       "    var ncells = cells.length;\n",
       "    for (var i = 0; i < ncells; i++) {\n",
       "        var cell = cells[i];\n",
       "        if (cell.cell_type === 'code') {\n",
       "            for (var j = 0; j < cell.output_area.outputs.length; j++) {\n",
       "                var data = cell.output_area.outputs[j];\n",
       "                if (data.data) {\n",
       "                    // IPython >= 3 moved mimebundle to data attribute of output\n",
       "                    data = data.data;\n",
       "                }\n",
       "                if (data['text/html'] === html_output) {\n",
       "                    return [cell, data, j];\n",
       "                }\n",
       "            }\n",
       "        }\n",
       "    }\n",
       "};\n",
       "\n",
       "// Register the function which deals with the matplotlib target/channel.\n",
       "// The kernel may be null if the page has been refreshed.\n",
       "if (IPython.notebook.kernel !== null) {\n",
       "    IPython.notebook.kernel.comm_manager.register_target(\n",
       "        'matplotlib',\n",
       "        mpl.mpl_figure_comm\n",
       "    );\n",
       "}\n"
      ],
      "text/plain": [
       "<IPython.core.display.Javascript object>"
      ]
     },
     "metadata": {},
     "output_type": "display_data"
    },
    {
     "data": {
      "text/html": [
       "<img src=\"data:image/png;base64,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\" width=\"640\">"
      ],
      "text/plain": [
       "<IPython.core.display.HTML object>"
      ]
     },
     "metadata": {},
     "output_type": "display_data"
    },
    {
     "name": "stdout",
     "output_type": "stream",
     "text": [
      "\n"
     ]
    },
    {
     "name": "stderr",
     "output_type": "stream",
     "text": [
      "  0%|                                                                                                                   | 0/10000 [00:00<?, ?it/s]/var/folders/ks/tsqyvj_n5bv55g97m0fc7tb40000gn/T/ipykernel_34633/701987509.py:11: UserWarning: Implicit dimension choice for softmax has been deprecated. Change the call to include dim=X as an argument.\n",
      "  return self.activation(self.Wt(h))\n",
      "  0%|                                                                    | 0/10000 [00:00<?, ?it/s, loss=tensor(896.1196, grad_fn=<DivBackward0>)]/var/folders/ks/tsqyvj_n5bv55g97m0fc7tb40000gn/T/ipykernel_34633/976406836.py:48: UserWarning: Implicit dimension choice for softmax has been deprecated. Change the call to include dim=X as an argument.\n",
      "  draw_tensor((activation(torch.matmul(model.W.weight.t(), model.W.weight))).detach(), ident2, fig)\n",
      "  2%|█                                                          | 171/10000 [00:03<03:49, 42.85it/s, loss=tensor(69.9587, grad_fn=<DivBackward0>)]"
     ]
    }
   ],
   "source": [
    "X = []\n",
    "Y = []\n",
    "N = 10\n",
    "M = 2\n",
    "I = torch.Tensor([1**i for i in range(N)])\n",
    "O = torch.Tensor([1 / 1 for i in range(N)])\n",
    "\n",
    "model, losses, frob = run(N, M, I, O, show=True, activation=F.softmax, epochs=10000, lr=0.01)"
   ]
  },
  {
   "cell_type": "code",
   "execution_count": 22,
   "id": "80ef117c",
   "metadata": {},
   "outputs": [],
   "source": [
    "plt.clf()\n",
    "plt.scatter(model.W.weight[0].detach(), model.W.weight[1].detach())\n",
    "plt.show()"
   ]
  },
  {
   "cell_type": "code",
   "execution_count": 9,
   "id": "419bdb0c",
   "metadata": {},
   "outputs": [
    {
     "name": "stderr",
     "output_type": "stream",
     "text": [
      "  0%|                                                                                                                      | 0/50 [00:00<?, ?it/s]/var/folders/ks/tsqyvj_n5bv55g97m0fc7tb40000gn/T/ipykernel_34633/1584397028.py:11: UserWarning: Implicit dimension choice for softmax has been deprecated. Change the call to include dim=X as an argument.\n",
      "  return self.activation(self.Wt(h))\n",
      "100%|█████████████████████████████████████████████████████████████| 50/50 [00:00<00:00, 258.35it/s, loss=tensor(151.6582, grad_fn=<DivBackward0>)]\n"
     ]
    },
    {
     "name": "stdout",
     "output_type": "stream",
     "text": [
      "bruh\n",
      "\n"
     ]
    },
    {
     "name": "stderr",
     "output_type": "stream",
     "text": [
      "100%|███████████████████████████████████████████████████████████████| 50/50 [00:00<00:00, 442.71it/s, loss=tensor(4.4730, grad_fn=<DivBackward0>)]\n",
      "100%|███████████████████████████████████████████████████████████████| 50/50 [00:00<00:00, 451.69it/s, loss=tensor(8.4759, grad_fn=<DivBackward0>)]\n",
      "100%|█████████████████████████████████████████████████████████████| 50/50 [00:00<00:00, 415.23it/s, loss=tensor(110.5919, grad_fn=<DivBackward0>)]\n"
     ]
    },
    {
     "name": "stdout",
     "output_type": "stream",
     "text": [
      "bruh\n",
      "\n"
     ]
    },
    {
     "name": "stderr",
     "output_type": "stream",
     "text": [
      "100%|███████████████████████████████████████████████████████████████| 50/50 [00:00<00:00, 439.86it/s, loss=tensor(0.7804, grad_fn=<DivBackward0>)]\n"
     ]
    },
    {
     "name": "stdout",
     "output_type": "stream",
     "text": [
      "bruh\n",
      "\n"
     ]
    },
    {
     "name": "stderr",
     "output_type": "stream",
     "text": [
      "100%|█████████████████████████████████████████████████████████████| 50/50 [00:00<00:00, 441.98it/s, loss=tensor(238.1461, grad_fn=<DivBackward0>)]\n"
     ]
    },
    {
     "name": "stdout",
     "output_type": "stream",
     "text": [
      "bruh\n",
      "\n"
     ]
    },
    {
     "name": "stderr",
     "output_type": "stream",
     "text": [
      "100%|███████████████████████████████████████████████████████████████| 50/50 [00:00<00:00, 444.46it/s, loss=tensor(1.3189, grad_fn=<DivBackward0>)]\n",
      "100%|██████████████████████████████████████████████████████████████| 50/50 [00:00<00:00, 437.83it/s, loss=tensor(94.7110, grad_fn=<DivBackward0>)]\n"
     ]
    },
    {
     "name": "stdout",
     "output_type": "stream",
     "text": [
      "bruh\n",
      "\n"
     ]
    },
    {
     "name": "stderr",
     "output_type": "stream",
     "text": [
      "100%|█████████████████████████████████████████████████████████████| 50/50 [00:00<00:00, 463.65it/s, loss=tensor(143.0642, grad_fn=<DivBackward0>)]\n"
     ]
    },
    {
     "name": "stdout",
     "output_type": "stream",
     "text": [
      "bruh\n",
      "\n"
     ]
    },
    {
     "name": "stderr",
     "output_type": "stream",
     "text": [
      "100%|█████████████████████████████████████████████████████████████| 50/50 [00:00<00:00, 457.84it/s, loss=tensor(103.4722, grad_fn=<DivBackward0>)]\n",
      "100%|███████████████████████████████████████████████████████████████| 50/50 [00:00<00:00, 444.41it/s, loss=tensor(2.1264, grad_fn=<DivBackward0>)]\n"
     ]
    },
    {
     "name": "stdout",
     "output_type": "stream",
     "text": [
      "bruh\n",
      "\n"
     ]
    },
    {
     "name": "stderr",
     "output_type": "stream",
     "text": [
      "100%|███████████████████████████████████████████████████████████████| 50/50 [00:00<00:00, 422.16it/s, loss=tensor(0.7352, grad_fn=<DivBackward0>)]\n",
      "100%|███████████████████████████████████████████████████████████████| 50/50 [00:00<00:00, 446.66it/s, loss=tensor(1.6583, grad_fn=<DivBackward0>)]\n",
      "100%|██████████████████████████████████████████████████████████████| 50/50 [00:00<00:00, 461.01it/s, loss=tensor(91.9477, grad_fn=<DivBackward0>)]\n"
     ]
    },
    {
     "name": "stdout",
     "output_type": "stream",
     "text": [
      "bruh\n",
      "\n"
     ]
    },
    {
     "name": "stderr",
     "output_type": "stream",
     "text": [
      "100%|█████████████████████████████████████████████████████████████| 50/50 [00:00<00:00, 456.81it/s, loss=tensor(147.2408, grad_fn=<DivBackward0>)]\n",
      "100%|███████████████████████████████████████████████████████████████| 50/50 [00:00<00:00, 422.79it/s, loss=tensor(0.9097, grad_fn=<DivBackward0>)]\n"
     ]
    },
    {
     "name": "stdout",
     "output_type": "stream",
     "text": [
      "bruh\n",
      "\n"
     ]
    },
    {
     "name": "stderr",
     "output_type": "stream",
     "text": [
      "100%|███████████████████████████████████████████████████████████████| 50/50 [00:00<00:00, 455.60it/s, loss=tensor(0.7610, grad_fn=<DivBackward0>)]\n"
     ]
    },
    {
     "name": "stdout",
     "output_type": "stream",
     "text": [
      "bruh\n",
      "\n"
     ]
    },
    {
     "name": "stderr",
     "output_type": "stream",
     "text": [
      "100%|█████████████████████████████████████████████████████████████| 50/50 [00:00<00:00, 451.98it/s, loss=tensor(101.5010, grad_fn=<DivBackward0>)]\n"
     ]
    },
    {
     "name": "stdout",
     "output_type": "stream",
     "text": [
      "bruh\n",
      "\n"
     ]
    },
    {
     "name": "stderr",
     "output_type": "stream",
     "text": [
      "100%|███████████████████████████████████████████████████████████████| 50/50 [00:00<00:00, 457.52it/s, loss=tensor(1.6090, grad_fn=<DivBackward0>)]\n",
      "100%|█████████████████████████████████████████████████████████████| 50/50 [00:00<00:00, 438.80it/s, loss=tensor(145.8522, grad_fn=<DivBackward0>)]\n"
     ]
    },
    {
     "name": "stdout",
     "output_type": "stream",
     "text": [
      "bruh\n",
      "\n"
     ]
    },
    {
     "name": "stderr",
     "output_type": "stream",
     "text": [
      "100%|█████████████████████████████████████████████████████████████| 50/50 [00:00<00:00, 453.74it/s, loss=tensor(134.5416, grad_fn=<DivBackward0>)]\n"
     ]
    },
    {
     "name": "stdout",
     "output_type": "stream",
     "text": [
      "bruh\n",
      "\n"
     ]
    },
    {
     "name": "stderr",
     "output_type": "stream",
     "text": [
      "100%|███████████████████████████████████████████████████████████████| 50/50 [00:00<00:00, 458.19it/s, loss=tensor(0.8497, grad_fn=<DivBackward0>)]\n",
      "100%|█████████████████████████████████████████████████████████████| 50/50 [00:00<00:00, 426.53it/s, loss=tensor(155.8293, grad_fn=<DivBackward0>)]\n"
     ]
    },
    {
     "name": "stdout",
     "output_type": "stream",
     "text": [
      "bruh\n",
      "\n"
     ]
    },
    {
     "name": "stderr",
     "output_type": "stream",
     "text": [
      "100%|█████████████████████████████████████████████████████████████| 50/50 [00:00<00:00, 454.02it/s, loss=tensor(140.9338, grad_fn=<DivBackward0>)]\n",
      "100%|█████████████████████████████████████████████████████████████| 50/50 [00:00<00:00, 459.13it/s, loss=tensor(138.5096, grad_fn=<DivBackward0>)]\n"
     ]
    },
    {
     "name": "stdout",
     "output_type": "stream",
     "text": [
      "bruh\n",
      "\n"
     ]
    },
    {
     "name": "stderr",
     "output_type": "stream",
     "text": [
      "100%|█████████████████████████████████████████████████████████████| 50/50 [00:00<00:00, 467.16it/s, loss=tensor(114.3027, grad_fn=<DivBackward0>)]\n"
     ]
    },
    {
     "name": "stdout",
     "output_type": "stream",
     "text": [
      "bruh\n",
      "\n"
     ]
    },
    {
     "name": "stderr",
     "output_type": "stream",
     "text": [
      "100%|██████████████████████████████████████████████████████████████| 50/50 [00:00<00:00, 476.09it/s, loss=tensor(91.3412, grad_fn=<DivBackward0>)]\n",
      "100%|█████████████████████████████████████████████████████████████| 50/50 [00:00<00:00, 446.68it/s, loss=tensor(141.4850, grad_fn=<DivBackward0>)]\n"
     ]
    },
    {
     "name": "stdout",
     "output_type": "stream",
     "text": [
      "bruh\n",
      "\n"
     ]
    },
    {
     "name": "stderr",
     "output_type": "stream",
     "text": [
      "100%|██████████████████████████████████████████████████████████████| 50/50 [00:00<00:00, 474.49it/s, loss=tensor(93.5911, grad_fn=<DivBackward0>)]\n"
     ]
    },
    {
     "name": "stdout",
     "output_type": "stream",
     "text": [
      "bruh\n",
      "\n"
     ]
    },
    {
     "name": "stderr",
     "output_type": "stream",
     "text": [
      "100%|█████████████████████████████████████████████████████████████| 50/50 [00:00<00:00, 441.22it/s, loss=tensor(132.6579, grad_fn=<DivBackward0>)]\n"
     ]
    },
    {
     "name": "stdout",
     "output_type": "stream",
     "text": [
      "bruh\n",
      "\n"
     ]
    },
    {
     "name": "stderr",
     "output_type": "stream",
     "text": [
      "100%|██████████████████████████████████████████████████████████████| 50/50 [00:00<00:00, 470.51it/s, loss=tensor(15.1983, grad_fn=<DivBackward0>)]\n"
     ]
    },
    {
     "name": "stdout",
     "output_type": "stream",
     "text": [
      "bruh\n",
      "\n"
     ]
    },
    {
     "name": "stderr",
     "output_type": "stream",
     "text": [
      "100%|█████████████████████████████████████████████████████████████| 50/50 [00:00<00:00, 470.63it/s, loss=tensor(136.6342, grad_fn=<DivBackward0>)]\n"
     ]
    },
    {
     "name": "stdout",
     "output_type": "stream",
     "text": [
      "bruh\n",
      "\n"
     ]
    },
    {
     "name": "stderr",
     "output_type": "stream",
     "text": [
      "100%|███████████████████████████████████████████████████████████████| 50/50 [00:00<00:00, 483.83it/s, loss=tensor(2.2936, grad_fn=<DivBackward0>)]\n"
     ]
    },
    {
     "name": "stdout",
     "output_type": "stream",
     "text": [
      "bruh\n",
      "\n"
     ]
    },
    {
     "name": "stderr",
     "output_type": "stream",
     "text": [
      "100%|█████████████████████████████████████████████████████████████| 50/50 [00:00<00:00, 483.30it/s, loss=tensor(140.1643, grad_fn=<DivBackward0>)]\n",
      "100%|█████████████████████████████████████████████████████████████| 50/50 [00:00<00:00, 482.61it/s, loss=tensor(146.1697, grad_fn=<DivBackward0>)]\n"
     ]
    },
    {
     "name": "stdout",
     "output_type": "stream",
     "text": [
      "bruh\n",
      "\n"
     ]
    },
    {
     "name": "stderr",
     "output_type": "stream",
     "text": [
      "100%|█████████████████████████████████████████████████████████████| 50/50 [00:00<00:00, 476.64it/s, loss=tensor(146.8351, grad_fn=<DivBackward0>)]\n"
     ]
    },
    {
     "name": "stdout",
     "output_type": "stream",
     "text": [
      "bruh\n",
      "\n"
     ]
    },
    {
     "name": "stderr",
     "output_type": "stream",
     "text": [
      "100%|█████████████████████████████████████████████████████████████| 50/50 [00:00<00:00, 489.43it/s, loss=tensor(240.7718, grad_fn=<DivBackward0>)]\n"
     ]
    },
    {
     "name": "stdout",
     "output_type": "stream",
     "text": [
      "bruh\n",
      "\n"
     ]
    },
    {
     "name": "stderr",
     "output_type": "stream",
     "text": [
      "100%|██████████████████████████████████████████████████████████████| 50/50 [00:00<00:00, 439.72it/s, loss=tensor(21.8038, grad_fn=<DivBackward0>)]\n",
      "100%|███████████████████████████████████████████████████████████████| 50/50 [00:00<00:00, 459.31it/s, loss=tensor(1.9477, grad_fn=<DivBackward0>)]\n",
      "100%|█████████████████████████████████████████████████████████████| 50/50 [00:00<00:00, 482.98it/s, loss=tensor(248.4014, grad_fn=<DivBackward0>)]\n",
      "100%|█████████████████████████████████████████████████████████████| 50/50 [00:00<00:00, 481.65it/s, loss=tensor(117.2045, grad_fn=<DivBackward0>)]\n"
     ]
    },
    {
     "name": "stdout",
     "output_type": "stream",
     "text": [
      "bruh\n",
      "\n"
     ]
    },
    {
     "name": "stderr",
     "output_type": "stream",
     "text": [
      "100%|███████████████████████████████████████████████████████████████| 50/50 [00:00<00:00, 475.81it/s, loss=tensor(0.6105, grad_fn=<DivBackward0>)]\n",
      "100%|███████████████████████████████████████████████████████████████| 50/50 [00:00<00:00, 481.43it/s, loss=tensor(3.1646, grad_fn=<DivBackward0>)]\n",
      "100%|██████████████████████████████████████████████████████████████| 50/50 [00:00<00:00, 498.31it/s, loss=tensor(96.0705, grad_fn=<DivBackward0>)]\n"
     ]
    },
    {
     "name": "stdout",
     "output_type": "stream",
     "text": [
      "bruh\n",
      "\n"
     ]
    },
    {
     "name": "stderr",
     "output_type": "stream",
     "text": [
      "100%|███████████████████████████████████████████████████████████████| 50/50 [00:00<00:00, 503.11it/s, loss=tensor(3.1256, grad_fn=<DivBackward0>)]\n",
      "100%|█████████████████████████████████████████████████████████████| 50/50 [00:00<00:00, 498.62it/s, loss=tensor(150.0730, grad_fn=<DivBackward0>)]\n"
     ]
    },
    {
     "name": "stdout",
     "output_type": "stream",
     "text": [
      "bruh\n",
      "\n"
     ]
    },
    {
     "name": "stderr",
     "output_type": "stream",
     "text": [
      "100%|██████████████████████████████████████████████████████████████| 50/50 [00:00<00:00, 468.67it/s, loss=tensor(95.4763, grad_fn=<DivBackward0>)]\n",
      "100%|█████████████████████████████████████████████████████████████| 50/50 [00:00<00:00, 450.69it/s, loss=tensor(118.5892, grad_fn=<DivBackward0>)]\n",
      "100%|███████████████████████████████████████████████████████████████| 50/50 [00:00<00:00, 472.79it/s, loss=tensor(1.8041, grad_fn=<DivBackward0>)]\n"
     ]
    },
    {
     "name": "stdout",
     "output_type": "stream",
     "text": [
      "bruh\n",
      "\n"
     ]
    },
    {
     "name": "stderr",
     "output_type": "stream",
     "text": [
      "100%|███████████████████████████████████████████████████████████████| 50/50 [00:00<00:00, 494.70it/s, loss=tensor(2.5050, grad_fn=<DivBackward0>)]\n",
      "100%|██████████████████████████████████████████████████████████████| 50/50 [00:00<00:00, 490.00it/s, loss=tensor(16.6284, grad_fn=<DivBackward0>)]\n",
      "100%|██████████████████████████████████████████████████████████████| 50/50 [00:00<00:00, 479.28it/s, loss=tensor(16.9843, grad_fn=<DivBackward0>)]\n"
     ]
    },
    {
     "name": "stdout",
     "output_type": "stream",
     "text": [
      "bruh\n",
      "\n"
     ]
    },
    {
     "name": "stderr",
     "output_type": "stream",
     "text": [
      "100%|███████████████████████████████████████████████████████████████| 50/50 [00:00<00:00, 486.72it/s, loss=tensor(4.6591, grad_fn=<DivBackward0>)]\n"
     ]
    },
    {
     "name": "stdout",
     "output_type": "stream",
     "text": [
      "bruh\n",
      "\n"
     ]
    },
    {
     "name": "stderr",
     "output_type": "stream",
     "text": [
      "100%|███████████████████████████████████████████████████████████████| 50/50 [00:00<00:00, 473.62it/s, loss=tensor(1.2967, grad_fn=<DivBackward0>)]\n",
      "100%|███████████████████████████████████████████████████████████████| 50/50 [00:00<00:00, 383.74it/s, loss=tensor(0.9023, grad_fn=<DivBackward0>)]\n"
     ]
    },
    {
     "name": "stdout",
     "output_type": "stream",
     "text": [
      "bruh\n",
      "\n"
     ]
    },
    {
     "name": "stderr",
     "output_type": "stream",
     "text": [
      "100%|██████████████████████████████████████████████████████████████| 50/50 [00:00<00:00, 444.24it/s, loss=tensor(13.7926, grad_fn=<DivBackward0>)]\n",
      "100%|█████████████████████████████████████████████████████████████| 50/50 [00:00<00:00, 411.36it/s, loss=tensor(126.4826, grad_fn=<DivBackward0>)]\n"
     ]
    },
    {
     "name": "stdout",
     "output_type": "stream",
     "text": [
      "bruh\n",
      "\n"
     ]
    },
    {
     "name": "stderr",
     "output_type": "stream",
     "text": [
      "100%|███████████████████████████████████████████████████████████████| 50/50 [00:00<00:00, 482.35it/s, loss=tensor(0.8830, grad_fn=<DivBackward0>)]\n"
     ]
    },
    {
     "name": "stdout",
     "output_type": "stream",
     "text": [
      "bruh\n",
      "\n"
     ]
    },
    {
     "name": "stderr",
     "output_type": "stream",
     "text": [
      "100%|███████████████████████████████████████████████████████████████| 50/50 [00:00<00:00, 480.08it/s, loss=tensor(0.8474, grad_fn=<DivBackward0>)]\n",
      "100%|███████████████████████████████████████████████████████████████| 50/50 [00:00<00:00, 465.64it/s, loss=tensor(1.7482, grad_fn=<DivBackward0>)]\n"
     ]
    },
    {
     "name": "stdout",
     "output_type": "stream",
     "text": [
      "bruh\n",
      "\n"
     ]
    },
    {
     "name": "stderr",
     "output_type": "stream",
     "text": [
      "100%|█████████████████████████████████████████████████████████████| 50/50 [00:00<00:00, 468.81it/s, loss=tensor(144.5865, grad_fn=<DivBackward0>)]\n",
      "100%|█████████████████████████████████████████████████████████████| 50/50 [00:00<00:00, 467.61it/s, loss=tensor(149.1310, grad_fn=<DivBackward0>)]\n"
     ]
    },
    {
     "name": "stdout",
     "output_type": "stream",
     "text": [
      "bruh\n",
      "\n"
     ]
    },
    {
     "name": "stderr",
     "output_type": "stream",
     "text": [
      "100%|█████████████████████████████████████████████████████████████| 50/50 [00:00<00:00, 468.99it/s, loss=tensor(126.9842, grad_fn=<DivBackward0>)]\n"
     ]
    },
    {
     "name": "stdout",
     "output_type": "stream",
     "text": [
      "bruh\n",
      "\n"
     ]
    },
    {
     "name": "stderr",
     "output_type": "stream",
     "text": [
      "100%|███████████████████████████████████████████████████████████████| 50/50 [00:00<00:00, 476.36it/s, loss=tensor(1.0584, grad_fn=<DivBackward0>)]\n"
     ]
    },
    {
     "name": "stdout",
     "output_type": "stream",
     "text": [
      "bruh\n",
      "\n"
     ]
    },
    {
     "name": "stderr",
     "output_type": "stream",
     "text": [
      "100%|███████████████████████████████████████████████████████████████| 50/50 [00:00<00:00, 463.93it/s, loss=tensor(2.0394, grad_fn=<DivBackward0>)]\n",
      "100%|██████████████████████████████████████████████████████████████| 50/50 [00:00<00:00, 444.51it/s, loss=tensor(93.7985, grad_fn=<DivBackward0>)]\n",
      "100%|███████████████████████████████████████████████████████████████| 50/50 [00:00<00:00, 491.98it/s, loss=tensor(4.6305, grad_fn=<DivBackward0>)]\n"
     ]
    },
    {
     "name": "stdout",
     "output_type": "stream",
     "text": [
      "bruh\n",
      "\n"
     ]
    },
    {
     "name": "stderr",
     "output_type": "stream",
     "text": [
      "100%|█████████████████████████████████████████████████████████████| 50/50 [00:00<00:00, 484.58it/s, loss=tensor(149.3515, grad_fn=<DivBackward0>)]\n"
     ]
    },
    {
     "name": "stdout",
     "output_type": "stream",
     "text": [
      "bruh\n",
      "\n"
     ]
    },
    {
     "name": "stderr",
     "output_type": "stream",
     "text": [
      "100%|███████████████████████████████████████████████████████████████| 50/50 [00:00<00:00, 454.86it/s, loss=tensor(3.8889, grad_fn=<DivBackward0>)]\n"
     ]
    },
    {
     "name": "stdout",
     "output_type": "stream",
     "text": [
      "bruh\n",
      "\n"
     ]
    },
    {
     "name": "stderr",
     "output_type": "stream",
     "text": [
      "100%|█████████████████████████████████████████████████████████████| 50/50 [00:00<00:00, 467.58it/s, loss=tensor(149.4374, grad_fn=<DivBackward0>)]\n"
     ]
    },
    {
     "name": "stdout",
     "output_type": "stream",
     "text": [
      "bruh\n",
      "\n"
     ]
    },
    {
     "name": "stderr",
     "output_type": "stream",
     "text": [
      "100%|█████████████████████████████████████████████████████████████| 50/50 [00:00<00:00, 510.02it/s, loss=tensor(235.1778, grad_fn=<DivBackward0>)]\n"
     ]
    },
    {
     "name": "stdout",
     "output_type": "stream",
     "text": [
      "bruh\n",
      "\n"
     ]
    },
    {
     "name": "stderr",
     "output_type": "stream",
     "text": [
      "100%|██████████████████████████████████████████████████████████████| 50/50 [00:00<00:00, 515.19it/s, loss=tensor(38.5924, grad_fn=<DivBackward0>)]\n"
     ]
    },
    {
     "name": "stdout",
     "output_type": "stream",
     "text": [
      "bruh\n",
      "\n"
     ]
    },
    {
     "name": "stderr",
     "output_type": "stream",
     "text": [
      "100%|█████████████████████████████████████████████████████████████| 50/50 [00:00<00:00, 484.86it/s, loss=tensor(136.0304, grad_fn=<DivBackward0>)]\n"
     ]
    },
    {
     "name": "stdout",
     "output_type": "stream",
     "text": [
      "bruh\n",
      "\n"
     ]
    },
    {
     "name": "stderr",
     "output_type": "stream",
     "text": [
      "100%|███████████████████████████████████████████████████████████████| 50/50 [00:00<00:00, 477.98it/s, loss=tensor(5.4530, grad_fn=<DivBackward0>)]\n"
     ]
    },
    {
     "name": "stdout",
     "output_type": "stream",
     "text": [
      "bruh\n",
      "\n"
     ]
    },
    {
     "name": "stderr",
     "output_type": "stream",
     "text": [
      "100%|█████████████████████████████████████████████████████████████| 50/50 [00:00<00:00, 469.82it/s, loss=tensor(228.4469, grad_fn=<DivBackward0>)]\n"
     ]
    },
    {
     "name": "stdout",
     "output_type": "stream",
     "text": [
      "bruh\n",
      "\n"
     ]
    },
    {
     "name": "stderr",
     "output_type": "stream",
     "text": [
      "100%|█████████████████████████████████████████████████████████████| 50/50 [00:00<00:00, 468.40it/s, loss=tensor(129.4038, grad_fn=<DivBackward0>)]\n"
     ]
    },
    {
     "name": "stdout",
     "output_type": "stream",
     "text": [
      "bruh\n",
      "\n"
     ]
    },
    {
     "name": "stderr",
     "output_type": "stream",
     "text": [
      "100%|█████████████████████████████████████████████████████████████| 50/50 [00:00<00:00, 493.35it/s, loss=tensor(117.0096, grad_fn=<DivBackward0>)]\n",
      "100%|███████████████████████████████████████████████████████████████| 50/50 [00:00<00:00, 468.71it/s, loss=tensor(1.6763, grad_fn=<DivBackward0>)]\n",
      "100%|█████████████████████████████████████████████████████████████| 50/50 [00:00<00:00, 480.21it/s, loss=tensor(135.5061, grad_fn=<DivBackward0>)]\n"
     ]
    },
    {
     "name": "stdout",
     "output_type": "stream",
     "text": [
      "bruh\n",
      "\n"
     ]
    },
    {
     "name": "stderr",
     "output_type": "stream",
     "text": [
      "100%|██████████████████████████████████████████████████████████████| 50/50 [00:00<00:00, 509.38it/s, loss=tensor(24.7939, grad_fn=<DivBackward0>)]\n",
      "100%|███████████████████████████████████████████████████████████████| 50/50 [00:00<00:00, 525.17it/s, loss=tensor(1.4207, grad_fn=<DivBackward0>)]\n"
     ]
    },
    {
     "name": "stdout",
     "output_type": "stream",
     "text": [
      "bruh\n",
      "\n"
     ]
    },
    {
     "name": "stderr",
     "output_type": "stream",
     "text": [
      "100%|█████████████████████████████████████████████████████████████| 50/50 [00:00<00:00, 510.91it/s, loss=tensor(121.8145, grad_fn=<DivBackward0>)]\n"
     ]
    },
    {
     "name": "stdout",
     "output_type": "stream",
     "text": [
      "bruh\n",
      "\n"
     ]
    },
    {
     "name": "stderr",
     "output_type": "stream",
     "text": [
      "100%|███████████████████████████████████████████████████████████████| 50/50 [00:00<00:00, 478.30it/s, loss=tensor(1.3914, grad_fn=<DivBackward0>)]\n",
      "100%|█████████████████████████████████████████████████████████████| 50/50 [00:00<00:00, 490.48it/s, loss=tensor(117.3942, grad_fn=<DivBackward0>)]\n"
     ]
    },
    {
     "name": "stdout",
     "output_type": "stream",
     "text": [
      "bruh\n",
      "\n"
     ]
    },
    {
     "name": "stderr",
     "output_type": "stream",
     "text": [
      "100%|██████████████████████████████████████████████████████████████| 50/50 [00:00<00:00, 450.65it/s, loss=tensor(96.0970, grad_fn=<DivBackward0>)]\n"
     ]
    },
    {
     "name": "stdout",
     "output_type": "stream",
     "text": [
      "bruh\n",
      "\n"
     ]
    },
    {
     "name": "stderr",
     "output_type": "stream",
     "text": [
      "100%|█████████████████████████████████████████████████████████████| 50/50 [00:00<00:00, 488.94it/s, loss=tensor(145.1624, grad_fn=<DivBackward0>)]\n",
      "100%|█████████████████████████████████████████████████████████████| 50/50 [00:00<00:00, 492.13it/s, loss=tensor(122.1526, grad_fn=<DivBackward0>)]\n"
     ]
    },
    {
     "name": "stdout",
     "output_type": "stream",
     "text": [
      "bruh\n",
      "\n"
     ]
    },
    {
     "name": "stderr",
     "output_type": "stream",
     "text": [
      "100%|█████████████████████████████████████████████████████████████| 50/50 [00:00<00:00, 500.75it/s, loss=tensor(146.9700, grad_fn=<DivBackward0>)]\n"
     ]
    },
    {
     "name": "stdout",
     "output_type": "stream",
     "text": [
      "bruh\n",
      "\n"
     ]
    },
    {
     "name": "stderr",
     "output_type": "stream",
     "text": [
      "100%|█████████████████████████████████████████████████████████████| 50/50 [00:00<00:00, 491.59it/s, loss=tensor(150.9412, grad_fn=<DivBackward0>)]\n",
      "100%|███████████████████████████████████████████████████████████████| 50/50 [00:00<00:00, 500.49it/s, loss=tensor(1.4672, grad_fn=<DivBackward0>)]\n"
     ]
    },
    {
     "name": "stdout",
     "output_type": "stream",
     "text": [
      "bruh\n",
      "\n"
     ]
    },
    {
     "name": "stderr",
     "output_type": "stream",
     "text": [
      "100%|█████████████████████████████████████████████████████████████| 50/50 [00:00<00:00, 497.08it/s, loss=tensor(214.6320, grad_fn=<DivBackward0>)]\n"
     ]
    },
    {
     "name": "stdout",
     "output_type": "stream",
     "text": [
      "bruh\n",
      "\n"
     ]
    },
    {
     "name": "stderr",
     "output_type": "stream",
     "text": [
      "  0%|                                                                        | 0/50 [00:00<?, ?it/s, loss=tensor(45.7039, grad_fn=<DivBackward0>)]IOPub message rate exceeded.\n",
      "The notebook server will temporarily stop sending output\n",
      "to the client in order to avoid crashing it.\n",
      "To change this limit, set the config variable\n",
      "`--NotebookApp.iopub_msg_rate_limit`.\n",
      "\n",
      "Current values:\n",
      "NotebookApp.iopub_msg_rate_limit=1000.0 (msgs/sec)\n",
      "NotebookApp.rate_limit_window=3.0 (secs)\n",
      "\n",
      "100%|█████████████████████████████████████████████████████████████| 50/50 [00:00<00:00, 534.92it/s, loss=tensor(140.9349, grad_fn=<DivBackward0>)]\n",
      "100%|███████████████████████████████████████████████████████████████| 50/50 [00:00<00:00, 478.73it/s, loss=tensor(1.5672, grad_fn=<DivBackward0>)]\n"
     ]
    },
    {
     "data": {
      "text/plain": [
       "0.38"
      ]
     },
     "execution_count": 9,
     "metadata": {},
     "output_type": "execute_result"
    }
   ],
   "source": [
    "X = []\n",
    "Y = []\n",
    "N = 10\n",
    "M = 2\n",
    "I = torch.Tensor([1**i for i in range(1, N + 1)])\n",
    "\n",
    "tot = 100\n",
    "hold = 0\n",
    "\n",
    "for _ in range(tot):\n",
    "    model, losses, frob = run(N, M, I, show=False, activation=F.softmax)\n",
    "\n",
    "    # print(model.W.weight)\n",
    "    _, indices = torch.sort(model.W.weight, dim=1)\n",
    "\n",
    "    holds = True\n",
    "    for i in range(len(indices[0])):\n",
    "        if indices[0][i] == indices[1][i]:\n",
    "            holds = False\n",
    "            print('bruh')\n",
    "            print()\n",
    "            break  \n",
    "    if holds: hold += 1\n",
    "\n",
    "    # print(model.Wt.weight)\n",
    "    # print(torch.matmul(model.Wt.weight, model.W.weight))\n",
    "    # print(model.Wt.bias)\n",
    "    # print(torch.matmul(model.Wt.weight, model.W.weight))\n",
    "\n",
    "hold / tot"
   ]
  },
  {
   "cell_type": "code",
   "execution_count": 85,
   "id": "bc706bd5",
   "metadata": {},
   "outputs": [
    {
     "name": "stdout",
     "output_type": "stream",
     "text": [
      "tensor([0.0119, 0.0126, 0.0127, 0.0121, 0.0123, 0.0124, 0.0125, 0.0123, 0.0123,\n",
      "        0.0126, 0.0119, 0.0124, 0.0124, 0.0123, 0.0128, 0.0119, 0.0123, 0.0119,\n",
      "        0.0125, 0.0128, 0.0123, 0.0123, 0.0123, 0.0127, 0.0123, 0.0127, 0.0122,\n",
      "        0.0123, 0.0121, 0.0123, 0.0127, 0.0120, 0.0122, 0.0123, 0.0125, 0.0124,\n",
      "        0.0128, 0.0122, 0.0123, 0.0128, 0.0128, 0.0123, 0.0118, 0.0123, 0.0123,\n",
      "        0.0123, 0.0123, 0.0126, 0.0124, 0.0124, 0.0123, 0.0119, 0.0123, 0.0124,\n",
      "        0.0121, 0.0122, 0.0125, 0.0126, 0.0123, 0.0123, 0.0120, 0.0121, 0.0129,\n",
      "        0.0122, 0.0123, 0.0123, 0.0126, 0.0123, 0.0123, 0.0125, 0.0120, 0.0123,\n",
      "        0.0123, 0.0121, 0.0126, 0.0122, 0.0123, 0.0123, 0.0120, 0.0123, 0.0120],\n",
      "       grad_fn=<SoftmaxBackward0>)\n"
     ]
    },
    {
     "name": "stderr",
     "output_type": "stream",
     "text": [
      "/var/folders/ks/tsqyvj_n5bv55g97m0fc7tb40000gn/T/ipykernel_85797/1004293759.py:1: UserWarning: Implicit dimension choice for softmax has been deprecated. Change the call to include dim=X as an argument.\n",
      "  print(F.softmax(torch.matmul(model.Wt.weight, model.W.weight)[4]))\n"
     ]
    }
   ],
   "source": [
    "print(F.softmax(torch.matmul(model.Wt.weight, model.W.weight)[4]))"
   ]
  },
  {
   "cell_type": "code",
   "execution_count": 48,
   "id": "c9743229",
   "metadata": {},
   "outputs": [
    {
     "data": {
      "text/plain": [
       "tensor([[0.4612, 0.5274, 0.8653, 0.3072, 0.2400],\n",
       "        [0.2857, 0.2544, 0.8929, 0.1368, 0.1702],\n",
       "        [0.9780, 0.4766, 0.1107, 0.2502, 0.0154],\n",
       "        [0.2228, 0.9784, 0.9932, 0.5505, 0.0785],\n",
       "        [0.2754, 0.2608, 0.6849, 0.0560, 0.8081]])"
      ]
     },
     "execution_count": 48,
     "metadata": {},
     "output_type": "execute_result"
    }
   ],
   "source": [
    "X = torch.rand(5, 5)\n",
    "X"
   ]
  },
  {
   "cell_type": "code",
   "execution_count": 53,
   "id": "55aa9eb5",
   "metadata": {},
   "outputs": [
    {
     "data": {
      "text/plain": [
       "tensor([1, 2, 3, 4, 5])"
      ]
     },
     "execution_count": 53,
     "metadata": {},
     "output_type": "execute_result"
    }
   ],
   "source": [
    "Y = torch.tensor([1, 2, 3, 4, 5])\n",
    "Y"
   ]
  },
  {
   "cell_type": "code",
   "execution_count": 54,
   "id": "ec1a658e",
   "metadata": {},
   "outputs": [
    {
     "data": {
      "text/plain": [
       "tensor([[1.4612, 2.5274, 3.8653, 4.3072, 5.2400],\n",
       "        [1.2857, 2.2544, 3.8929, 4.1368, 5.1702],\n",
       "        [1.9780, 2.4766, 3.1107, 4.2502, 5.0154],\n",
       "        [1.2228, 2.9784, 3.9932, 4.5505, 5.0785],\n",
       "        [1.2754, 2.2608, 3.6849, 4.0560, 5.8081]])"
      ]
     },
     "execution_count": 54,
     "metadata": {},
     "output_type": "execute_result"
    }
   ],
   "source": [
    "X + Y"
   ]
  },
  {
   "cell_type": "code",
   "execution_count": 65,
   "id": "a64346bb",
   "metadata": {},
   "outputs": [
    {
     "data": {
      "text/plain": [
       "tensor([[-1.4726, -1.0400, -1.5131, -1.1147, -1.0747],\n",
       "        [-1.1339, -1.2255, -1.0317, -1.1076, -1.1861],\n",
       "        [-1.6166, -1.9199, -1.5745, -1.7674, -1.5241],\n",
       "        [-1.3515, -1.7562, -1.5942, -1.0740, -1.5734],\n",
       "        [-1.9677, -1.8577, -1.4932, -1.6952, -1.7529]])"
      ]
     },
     "execution_count": 65,
     "metadata": {},
     "output_type": "execute_result"
    }
   ],
   "source": [
    "X = torch.rand(5, 5) - 2\n",
    "X"
   ]
  },
  {
   "cell_type": "code",
   "execution_count": 66,
   "id": "39616163",
   "metadata": {},
   "outputs": [
    {
     "data": {
      "text/plain": [
       "tensor([[11.7662, 12.0538, 11.0362, 10.5417, 10.9669],\n",
       "        [12.0538, 12.8048, 11.4346, 10.9451, 11.5168],\n",
       "        [11.0362, 11.4346, 10.6041,  9.8555, 10.3752],\n",
       "        [10.5417, 10.9451,  9.8555,  9.6200,  9.8665],\n",
       "        [10.9669, 11.5168, 10.3752,  9.8665, 10.4327]])"
      ]
     },
     "execution_count": 66,
     "metadata": {},
     "output_type": "execute_result"
    }
   ],
   "source": [
    "m = torch.matmul(X.t(), X)\n",
    "m"
   ]
  },
  {
   "cell_type": "code",
   "execution_count": 67,
   "id": "a678135e",
   "metadata": {},
   "outputs": [
    {
     "data": {
      "text/plain": [
       "tensor([[0.2810, 0.3746, 0.1354, 0.0826, 0.1264],\n",
       "        [0.2187, 0.4635, 0.1178, 0.0722, 0.1278],\n",
       "        [0.2524, 0.3759, 0.1638, 0.0775, 0.1303],\n",
       "        [0.2559, 0.3831, 0.1289, 0.1018, 0.1303],\n",
       "        [0.2378, 0.4121, 0.1316, 0.0791, 0.1394]])"
      ]
     },
     "execution_count": 67,
     "metadata": {},
     "output_type": "execute_result"
    }
   ],
   "source": [
    "F.softmax(m, dim=1)"
   ]
  },
  {
   "cell_type": "code",
   "execution_count": null,
   "id": "4ef71411",
   "metadata": {},
   "outputs": [],
   "source": []
  }
 ],
 "metadata": {
  "kernelspec": {
   "display_name": "Python 3 (ipykernel)",
   "language": "python",
   "name": "python3"
  },
  "language_info": {
   "codemirror_mode": {
    "name": "ipython",
    "version": 3
   },
   "file_extension": ".py",
   "mimetype": "text/x-python",
   "name": "python",
   "nbconvert_exporter": "python",
   "pygments_lexer": "ipython3",
   "version": "3.9.12"
  }
 },
 "nbformat": 4,
 "nbformat_minor": 5
}
